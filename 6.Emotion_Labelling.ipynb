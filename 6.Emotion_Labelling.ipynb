{
 "cells": [
  {
   "cell_type": "markdown",
   "metadata": {},
   "source": [
    "# Setting Emotion Labels for Comment and Post"
   ]
  },
  {
   "cell_type": "markdown",
   "metadata": {},
   "source": [
    "First we initialize the list of emotions as they are ordered in the GoEmotion Dataset"
   ]
  },
  {
   "cell_type": "code",
   "execution_count": 1,
   "metadata": {},
   "outputs": [],
   "source": [
    "import pandas as pd\n",
    "import numpy as np\n",
    "\n",
    "# Define the emotion labels based on the GoEmotions dataset\n",
    "emotion_labels = [\n",
    "    'admiration', 'amusement', 'anger', 'annoyance', 'approval', 'caring',\n",
    "    'confusion', 'curiosity', 'desire', 'disappointment', 'disapproval',\n",
    "    'disgust', 'embarrassment', 'excitement', 'fear', 'gratitude',\n",
    "    'grief', 'joy', 'love', 'nervousness', 'optimism', 'pride',\n",
    "    'realization', 'relief', 'remorse', 'sadness', 'surprise', 'neutrality'\n",
    "]"
   ]
  },
  {
   "cell_type": "markdown",
   "metadata": {},
   "source": [
    "## Comment Emotion Labels"
   ]
  },
  {
   "cell_type": "markdown",
   "metadata": {},
   "source": [
    "We set a minimum prob of 0.7 for neutral because the model was biased towards it, predicting neutral when it should not. "
   ]
  },
  {
   "cell_type": "code",
   "execution_count": null,
   "metadata": {},
   "outputs": [],
   "source": [
    "# Load the CSV file \n",
    "comments_df = pd.read_csv('/{add directory}/comments_with_prob_predictions.csv')\n",
    "\n",
    "# Set a higher threshold for neutral as a penalty\n",
    "neutral_threshold_comment = 0.70\n",
    "\n",
    "# Function to map probabilities to emotion labels with the specified thresholds\n",
    "def map_to_emotions_comment(row):\n",
    "    neutral_prob = row[-1]  # Neutrality is the last class\n",
    "    if neutral_prob >= neutral_threshold_comment:\n",
    "        return 'neutrality'\n",
    "    else:\n",
    "        # Exclude neutrality and find the highest probability emotion\n",
    "        non_neutral_probs = row[:-1]\n",
    "        max_emotion_index = np.argmax(non_neutral_probs)\n",
    "        return emotion_labels[max_emotion_index]\n",
    "\n",
    "# Apply the function across the DataFrame\n",
    "comments_df['emotion_label'] = comments_df[[f'class_{i}' for i in range(len(emotion_labels))]].apply(map_to_emotions_comment, axis=1)\n",
    "\n",
    "# List of columns to drop\n",
    "columns_to_drop = [f'class_{i}' for i in range(28)]\n",
    "\n",
    "# Drop the prediction columns\n",
    "comments_df = comments_df.drop(columns=columns_to_drop)\n",
    "\n",
    "# Save the updated DataFrame with the new label column\n",
    "output_file_path_with_labels = '/{add directory}/comments_with_emotion_labels.csv'\n",
    "comments_df.to_csv(output_file_path_with_labels, index=False)\n",
    "\n",
    "print(f\"Emotion labels have been added and saved to '{output_file_path_with_labels}'.\")\n"
   ]
  },
  {
   "cell_type": "markdown",
   "metadata": {},
   "source": [
    "## Post Emotion Labels"
   ]
  },
  {
   "cell_type": "markdown",
   "metadata": {},
   "source": [
    "We set a slightly lower threshold for posts, as we expect them to be more neutral, hence put a lower penalty."
   ]
  },
  {
   "cell_type": "code",
   "execution_count": null,
   "metadata": {},
   "outputs": [],
   "source": [
    "# Load the CSV file \n",
    "posts_df = pd.read_csv('/{add directory}/posts_with_prob_predictions.csv')\n",
    "\n",
    "# Set a higher threshold for neutral as a penalty\n",
    "neutral_threshold_post = 0.65\n",
    "\n",
    "# Function to map probabilities to emotion labels with the specified thresholds\n",
    "def map_to_emotions_post(row):\n",
    "    neutral_prob = row[-1]  # Neutrality is the last class\n",
    "    if neutral_prob >= neutral_threshold_post:\n",
    "        return 'neutrality'\n",
    "    else:\n",
    "        # Exclude neutrality and find the highest probability emotion\n",
    "        non_neutral_probs = row[:-1]\n",
    "        max_emotion_index = np.argmax(non_neutral_probs)\n",
    "        return emotion_labels[max_emotion_index]\n",
    "\n",
    "# Apply the function across the DataFrame \n",
    "posts_df['emotion_label'] = posts_df[[f'class_{i}' for i in range(len(emotion_labels))]].apply(map_to_emotions_post, axis=1)\n",
    "\n",
    "# List of columns to drop\n",
    "columns_to_drop = [f'class_{i}' for i in range(28)]\n",
    "\n",
    "# Drop the prediction and combined_text columns\n",
    "posts_df = posts_df.drop(columns=columns_to_drop)\n",
    "posts_df = posts_df.drop(columns=['combined_text'])\n",
    "\n",
    "\n",
    "# Save the updated DataFrame with the new label column\n",
    "output_file_path_with_labels = '/{add directory}/posts_with_emotion_labels.csv'\n",
    "posts_df.to_csv(output_file_path_with_labels, index=False)\n",
    "\n",
    "print(f\"Emotion labels have been added and saved to '{output_file_path_with_labels}'.\")\n"
   ]
  }
 ],
 "metadata": {
  "kernelspec": {
   "display_name": "Python 3",
   "language": "python",
   "name": "python3"
  },
  "language_info": {
   "codemirror_mode": {
    "name": "ipython",
    "version": 3
   },
   "file_extension": ".py",
   "mimetype": "text/x-python",
   "name": "python",
   "nbconvert_exporter": "python",
   "pygments_lexer": "ipython3",
   "version": "3.12.4"
  }
 },
 "nbformat": 4,
 "nbformat_minor": 2
}
